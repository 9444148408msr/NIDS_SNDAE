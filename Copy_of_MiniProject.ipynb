{
  "nbformat": 4,
  "nbformat_minor": 0,
  "metadata": {
    "colab": {
      "name": "Copy of MiniProject.ipynb",
      "version": "0.3.2",
      "provenance": [],
      "collapsed_sections": [],
      "toc_visible": true
    },
    "kernelspec": {
      "name": "python3",
      "display_name": "Python 3"
    },
    "accelerator": "GPU"
  },
  "cells": [
    {
      "metadata": {
        "id": "rILXDU27-nFh",
        "colab_type": "code",
        "outputId": "e4adf8c2-6a8a-4bed-abd6-e702508e0fba",
        "colab": {
          "base_uri": "https://localhost:8080/",
          "height": 54
        }
      },
      "cell_type": "code",
      "source": [
        "import tensorflow as tf\n",
        "from google.colab import drive\n",
        "drive.mount('/content/drive')"
      ],
      "execution_count": 22,
      "outputs": [
        {
          "output_type": "stream",
          "text": [
            "Drive already mounted at /content/drive; to attempt to forcibly remount, call drive.mount(\"/content/drive\", force_remount=True).\n"
          ],
          "name": "stdout"
        }
      ]
    },
    {
      "metadata": {
        "id": "OPNAsUgHmbQ7",
        "colab_type": "code",
        "colab": {}
      },
      "cell_type": "code",
      "source": [
        "from sklearn.preprocessing import StandardScaler\n",
        "import pandas as pd\n",
        "import numpy as np\n",
        "from sklearn import preprocessing\n",
        "from matplotlib import pyplot as plt\n",
        "%matplotlib inline\n"
      ],
      "execution_count": 0,
      "outputs": []
    },
    {
      "metadata": {
        "id": "8HBMlpZ8_a5R",
        "colab_type": "code",
        "outputId": "a90eb152-1c3c-4661-c124-804972c924bc",
        "colab": {
          "base_uri": "https://localhost:8080/",
          "height": 85
        }
      },
      "cell_type": "code",
      "source": [
        "\n",
        "tf.test.gpu_device_name()\n",
        "x=pd.read_csv(\"drive/My Drive/kddcup.data_10_percent_corrected\",header=None,names=[str(i) for i in range(42)])\n",
        "x_test=pd.read_csv(\"drive/My Drive/corrected\",header=None,names=[str(i) for i in range(42)])\n",
        "x_nsl_test=pd.read_csv(\"drive/My Drive/KDDTest+.txt\",header=None,names=[str(i) for i in range(43)])\n",
        "x_nsl=pd.read_csv(\"drive/My Drive/KDDTrain+.txt\",header=None,names=[str(i) for i in range(43)])\n",
        "le = preprocessing.LabelEncoder()\n",
        "for i in range(1,4):\n",
        "  x[str(i)]=le.fit_transform(x[str(i)])\n",
        "  x_test[str(i)]=le.fit_transform(x_test[str(i)])\n",
        "  x_nsl[str(i)]=le.fit_transform(x_nsl[str(i)])\n",
        "  x_nsl_test[str(i)]=le.fit_transform(x_nsl_test[str(i)])\n",
        "\n",
        "print(x.shape)\n",
        "print(x_test.shape)\n",
        "print(x_nsl.shape)\n",
        "print(x_nsl_test.shape)"
      ],
      "execution_count": 24,
      "outputs": [
        {
          "output_type": "stream",
          "text": [
            "(494021, 42)\n",
            "(311029, 42)\n",
            "(125973, 43)\n",
            "(22544, 43)\n"
          ],
          "name": "stdout"
        }
      ]
    },
    {
      "metadata": {
        "id": "iusq9ND3UGrF",
        "colab_type": "code",
        "colab": {}
      },
      "cell_type": "code",
      "source": [
        "f=['land.','ftp_write.','imap.','multihop.','phf.','spy.','warezmaster.','warezclient.','loadmodule.','rootkit.','perl.','land','ftp_write','imap','multihop','phf','spy','warezmaster','warezclient','loadmodule','rootkit','perl']\n",
        "x = x[~x['41'].isin(f)]\n",
        "x_test = x_test[~x_test['41'].isin(f)]\n"
      ],
      "execution_count": 0,
      "outputs": []
    },
    {
      "metadata": {
        "id": "00WJ8ZRKm7g4",
        "colab_type": "code",
        "outputId": "bf019f74-af17-45e2-ac4d-f8ee46d54a40",
        "colab": {
          "base_uri": "https://localhost:8080/",
          "height": 34
        }
      },
      "cell_type": "code",
      "source": [
        "ff=set(x.iloc[:,-1])\n",
        "x_test = x_test[x_test['41'].isin(ff)]\n",
        "print(x_test.shape)"
      ],
      "execution_count": 26,
      "outputs": [
        {
          "output_type": "stream",
          "text": [
            "(290648, 42)\n"
          ],
          "name": "stdout"
        }
      ]
    },
    {
      "metadata": {
        "id": "v1HbvORdoU3r",
        "colab_type": "code",
        "outputId": "05b8c540-5f7a-4f76-fdd9-510a366097c3",
        "colab": {
          "base_uri": "https://localhost:8080/",
          "height": 221
        }
      },
      "cell_type": "code",
      "source": [
        "set(x_test.iloc[:,-1])"
      ],
      "execution_count": 27,
      "outputs": [
        {
          "output_type": "execute_result",
          "data": {
            "text/plain": [
              "{'back.',\n",
              " 'buffer_overflow.',\n",
              " 'guess_passwd.',\n",
              " 'ipsweep.',\n",
              " 'neptune.',\n",
              " 'nmap.',\n",
              " 'normal.',\n",
              " 'pod.',\n",
              " 'portsweep.',\n",
              " 'satan.',\n",
              " 'smurf.',\n",
              " 'teardrop.'}"
            ]
          },
          "metadata": {
            "tags": []
          },
          "execution_count": 27
        }
      ]
    },
    {
      "metadata": {
        "id": "0EcFKybtm9Ha",
        "colab_type": "code",
        "outputId": "e1fb30eb-eef7-43ee-91ce-472b64faef47",
        "colab": {
          "base_uri": "https://localhost:8080/",
          "height": 221
        }
      },
      "cell_type": "code",
      "source": [
        "set(x.iloc[:,-1])"
      ],
      "execution_count": 28,
      "outputs": [
        {
          "output_type": "execute_result",
          "data": {
            "text/plain": [
              "{'back.',\n",
              " 'buffer_overflow.',\n",
              " 'guess_passwd.',\n",
              " 'ipsweep.',\n",
              " 'neptune.',\n",
              " 'nmap.',\n",
              " 'normal.',\n",
              " 'pod.',\n",
              " 'portsweep.',\n",
              " 'satan.',\n",
              " 'smurf.',\n",
              " 'teardrop.'}"
            ]
          },
          "metadata": {
            "tags": []
          },
          "execution_count": 28
        }
      ]
    },
    {
      "metadata": {
        "id": "jdzcw_WYJz86",
        "colab_type": "code",
        "outputId": "5b524044-25fd-46e1-d540-473d83de343b",
        "colab": {
          "base_uri": "https://localhost:8080/",
          "height": 34
        }
      },
      "cell_type": "code",
      "source": [
        "x_nsl=x_nsl.iloc[:,:-1]\n",
        "x_nsl_test=x_nsl_test.iloc[:,:-1]\n",
        "print(x_nsl.shape)"
      ],
      "execution_count": 29,
      "outputs": [
        {
          "output_type": "stream",
          "text": [
            "(125973, 42)\n"
          ],
          "name": "stdout"
        }
      ]
    },
    {
      "metadata": {
        "id": "RlpLvVG9koYy",
        "colab_type": "code",
        "colab": {}
      },
      "cell_type": "code",
      "source": [
        "le.fit(x[str(41)])\n",
        "x[str(41)]=le.transform(x[str(41)])\n",
        "x_test[str(41)]=le.transform(x_test[str(41)])\n",
        "#le.transform(x_nsl[str(41)])\n",
        "#le.transform(x_nsl_test[str(41)])"
      ],
      "execution_count": 0,
      "outputs": []
    },
    {
      "metadata": {
        "colab_type": "code",
        "id": "Mm27SIk9tVy7",
        "colab": {}
      },
      "cell_type": "code",
      "source": [
        "x=x.as_matrix()\n",
        "x_test=x_test.as_matrix()"
      ],
      "execution_count": 0,
      "outputs": []
    },
    {
      "metadata": {
        "id": "gYAUsFnBebH1",
        "colab_type": "code",
        "colab": {}
      },
      "cell_type": "code",
      "source": [
        "x_cp=x\n",
        "x_test_cp= x_test"
      ],
      "execution_count": 0,
      "outputs": []
    },
    {
      "metadata": {
        "id": "0HLhEGPXbyHp",
        "colab_type": "code",
        "colab": {}
      },
      "cell_type": "code",
      "source": [
        "x= StandardScaler().fit_transform(x)\n",
        "x_test= StandardScaler().fit_transform(x_test)"
      ],
      "execution_count": 0,
      "outputs": []
    },
    {
      "metadata": {
        "id": "EywmMkiO2m19",
        "colab_type": "code",
        "colab": {}
      },
      "cell_type": "code",
      "source": [
        "def deep_auto_encoder(num_input,encoded_data,test_data):\n",
        "    graph = []\n",
        "    learning_rate = 0.01\n",
        "    num_steps = 16000\n",
        "    batch_size = 25\n",
        "    display_step = 2000\n",
        "    num_hidden_1 = 14\n",
        "    num_hidden_2 = 28 \n",
        "    num_hidden_3 = 28 \n",
        "    #num_hidden_4 = 20\n",
        "    \n",
        "    X = tf.placeholder(\"float32\", [None, num_input])\n",
        "\n",
        "\n",
        "    weights = {\n",
        "        'encoder_h1': tf.Variable(tf.random_normal([num_input, num_hidden_1]),name='encoder_h1'),\n",
        "        'encoder_h2': tf.Variable(tf.random_normal([num_hidden_1, num_hidden_2]),name='encoder_h2'),\n",
        "        'encoder_h3': tf.Variable(tf.random_normal([num_hidden_2, num_hidden_3]),name='encoder_h3'),\n",
        "        'decoder_h1': tf.Variable(tf.random_normal([num_hidden_3, num_input]),name='decoder_h1'),\n",
        "        #'decoder_h2': tf.Variable(tf.random_normal([num_hidden_4, num_input]),name='decoder_h2')\n",
        "\n",
        "\n",
        "    }\n",
        "    biases = {\n",
        "        'encoder_b1': tf.Variable(tf.random_normal([num_hidden_1]),name='bencoder_h1'),\n",
        "        'encoder_b2': tf.Variable(tf.random_normal([num_hidden_2]),name='bencoder_h2'),\n",
        "        'encoder_b3': tf.Variable(tf.random_normal([num_hidden_3]),name='bencoder_h3'),\n",
        "        'decoder_b1': tf.Variable(tf.random_normal([num_input]),name='bdecoder_h1'),\n",
        "        #'decoder_b2': tf.Variable(tf.random_normal([num_input]),name='bdecoder_h2')\n",
        "\n",
        "\n",
        "    }\n",
        "    \n",
        "    \n",
        "\n",
        "    def encoder(x):\n",
        "        layer_1 = tf.nn.sigmoid(tf.add(tf.matmul(x, weights['encoder_h1']),\n",
        "                                       biases['encoder_b1']))\n",
        "        layer_2 = tf.nn.sigmoid(tf.add(tf.matmul(layer_1, weights['encoder_h2']),\n",
        "                                       biases['encoder_b2']))\n",
        "        layer_3 = tf.nn.sigmoid(tf.add(tf.matmul(layer_2, weights['encoder_h3']),\n",
        "                                       biases['encoder_b3']))\n",
        "        return layer_3\n",
        "\n",
        "\n",
        "\n",
        "    def decoder(x):\n",
        "        layer_1 = tf.nn.sigmoid(tf.add(tf.matmul(x, weights['decoder_h1']),\n",
        "                                       biases['decoder_b1']))\n",
        "        #layer_2 = tf.nn.sigmoid(tf.add(tf.matmul(layer_1, weights['decoder_h2']),\n",
        "        #                               biases['decoder_b2']))\n",
        "        \n",
        "        return layer_1\n",
        "\n",
        "    # Construct model\n",
        "    encoder_op = encoder(X)\n",
        "    decoder_op = decoder(encoder_op)\n",
        "\n",
        "    y_pred = decoder_op\n",
        "    y_true = X\n",
        "\n",
        "\n",
        "    loss = tf.reduce_mean(tf.pow(y_true - y_pred, 2))\n",
        "    optimizer = tf.train.GradientDescentOptimizer(learning_rate).minimize(loss)\n",
        "    init = tf.global_variables_initializer()\n",
        "    print(len(encoded_data))\n",
        "    with tf.Session() as sess:\n",
        "        sess.run(init)\n",
        "        j=0\n",
        "        for i in range(1, num_steps+1):\n",
        "            batch_x= encoded_data[j:j+batch_size]\n",
        "            _, l = sess.run([optimizer, loss], feed_dict={X: batch_x})\n",
        "            if i % display_step == 0 or i == 1:\n",
        "                print('Step %i: Minibatch Loss: %f' % (i, l))\n",
        "                graph.append(l)\n",
        "            j=j+batch_size\n",
        "        \n",
        "        batch_x = encoded_data\n",
        "        g = sess.run(encoder_op, feed_dict={X: batch_x})\n",
        "        \n",
        "        batch_x = test_data\n",
        "        g_test = sess.run(encoder_op, feed_dict={X: batch_x})\n",
        "        \n",
        "        print(\"g-shape: \",g.shape)\n",
        "        print(\"g_test-shape: \",g_test.shape)\n",
        "    plt.plot(graph[:])\n",
        "    plt.show()\n",
        "    sess.close()\n",
        "    return g,g_test,encoder"
      ],
      "execution_count": 0,
      "outputs": []
    },
    {
      "metadata": {
        "id": "4cWVCVQKjALW",
        "colab_type": "code",
        "outputId": "ad85126f-ba59-434f-b7d5-b08062957086",
        "colab": {
          "base_uri": "https://localhost:8080/",
          "height": 955
        }
      },
      "cell_type": "code",
      "source": [
        "train_1,test_1,model_1= deep_auto_encoder(41,x[:,:-1],x_test[:,:-1])\n",
        "train_2,test_2,model_2= deep_auto_encoder(28,train_1,test_1)"
      ],
      "execution_count": 35,
      "outputs": [
        {
          "output_type": "stream",
          "text": [
            "492905\n",
            "Step 1: Minibatch Loss: 1.180282\n",
            "Step 2000: Minibatch Loss: 0.524885\n",
            "Step 4000: Minibatch Loss: 0.459096\n",
            "Step 6000: Minibatch Loss: 0.416884\n",
            "Step 8000: Minibatch Loss: 0.327670\n",
            "Step 10000: Minibatch Loss: 0.300865\n",
            "Step 12000: Minibatch Loss: 0.234094\n",
            "Step 14000: Minibatch Loss: 0.873724\n",
            "Step 16000: Minibatch Loss: 0.237104\n",
            "Step 18000: Minibatch Loss: 3.797857\n",
            "g-shape:  (492905, 28)\n",
            "g_test-shape:  (290648, 28)\n"
          ],
          "name": "stdout"
        },
        {
          "output_type": "display_data",
          "data": {
            "image/png": "[encoded data removed]",
            "text/plain": [
              "<matplotlib.figure.Figure at 0x7ff1ab59bb70>"
            ]
          },
          "metadata": {
            "tags": []
          }
        },
        {
          "output_type": "stream",
          "text": [
            "492905\n",
            "Step 1: Minibatch Loss: 0.303402\n",
            "Step 2000: Minibatch Loss: 0.242875\n",
            "Step 4000: Minibatch Loss: 0.236554\n",
            "Step 6000: Minibatch Loss: 0.232011\n",
            "Step 8000: Minibatch Loss: 0.194840\n",
            "Step 10000: Minibatch Loss: 0.187222\n",
            "Step 12000: Minibatch Loss: 0.168029\n",
            "Step 14000: Minibatch Loss: 0.212582\n",
            "Step 16000: Minibatch Loss: 0.169553\n",
            "Step 18000: Minibatch Loss: 0.165757\n",
            "g-shape:  (492905, 28)\n",
            "g_test-shape:  (290648, 28)\n"
          ],
          "name": "stdout"
        },
        {
          "output_type": "display_data",
          "data": {
            "image/png": "[encoded data removed]",
            "text/plain": [
              "<matplotlib.figure.Figure at 0x7ff1a8ba6940>"
            ]
          },
          "metadata": {
            "tags": []
          }
        }
      ]
    },
    {
      "metadata": {
        "id": "_KZCN_O2bPpM",
        "colab_type": "code",
        "colab": {}
      },
      "cell_type": "code",
      "source": [
        "from sklearn.ensemble import RandomForestClassifier\n",
        "clf = RandomForestClassifier(n_estimators=110, max_depth=6, random_state=0)"
      ],
      "execution_count": 0,
      "outputs": []
    },
    {
      "metadata": {
        "id": "ZKFsyih_kuiF",
        "colab_type": "code",
        "outputId": "906f971b-9755-464b-89fe-99efa9b770c0",
        "colab": {
          "base_uri": "https://localhost:8080/",
          "height": 119
        }
      },
      "cell_type": "code",
      "source": [
        "clf.fit(train_2,x_cp[:,-1] )"
      ],
      "execution_count": 37,
      "outputs": [
        {
          "output_type": "execute_result",
          "data": {
            "text/plain": [
              "RandomForestClassifier(bootstrap=True, class_weight=None, criterion='gini',\n",
              "            max_depth=6, max_features='auto', max_leaf_nodes=None,\n",
              "            min_impurity_decrease=0.0, min_impurity_split=None,\n",
              "            min_samples_leaf=1, min_samples_split=2,\n",
              "            min_weight_fraction_leaf=0.0, n_estimators=110, n_jobs=1,\n",
              "            oob_score=False, random_state=0, verbose=0, warm_start=False)"
            ]
          },
          "metadata": {
            "tags": []
          },
          "execution_count": 37
        }
      ]
    },
    {
      "metadata": {
        "id": "8ivUUVt-lQbC",
        "colab_type": "code",
        "colab": {}
      },
      "cell_type": "code",
      "source": [
        "y_pred= clf.predict(test_2)"
      ],
      "execution_count": 0,
      "outputs": []
    },
    {
      "metadata": {
        "id": "JlYH4Us1S_mo",
        "colab_type": "code",
        "outputId": "eda798ad-b202-4629-8e21-7dfd674cb275",
        "colab": {
          "base_uri": "https://localhost:8080/",
          "height": 34
        }
      },
      "cell_type": "code",
      "source": [
        "y_p=le.fit_transform(y_pred)\n",
        "y_p=y_p.reshape(-1,1)\n",
        "y_test=x_test_cp[:,-1].reshape(-1,1)\n",
        "print(y_test.shape)\n"
      ],
      "execution_count": 39,
      "outputs": [
        {
          "output_type": "stream",
          "text": [
            "(290648, 1)\n"
          ],
          "name": "stdout"
        }
      ]
    },
    {
      "metadata": {
        "id": "-ozFhj2FSmNK",
        "colab_type": "code",
        "outputId": "1a498af0-1336-4a8f-a21b-c66c79041a23",
        "colab": {
          "base_uri": "https://localhost:8080/",
          "height": 34
        }
      },
      "cell_type": "code",
      "source": [
        "print(clf.score(test_2,y_test))"
      ],
      "execution_count": 40,
      "outputs": [
        {
          "output_type": "stream",
          "text": [
            "0.9729707412402632\n"
          ],
          "name": "stdout"
        }
      ]
    },
    {
      "metadata": {
        "id": "pvlg3RWGfcLA",
        "colab_type": "code",
        "colab": {}
      },
      "cell_type": "code",
      "source": [
        "from sklearn.metrics import accuracy_score"
      ],
      "execution_count": 0,
      "outputs": []
    },
    {
      "metadata": {
        "id": "RC1bLMYEfe8I",
        "colab_type": "code",
        "outputId": "ad756384-745d-427b-b571-b45874c8acea",
        "colab": {
          "base_uri": "https://localhost:8080/",
          "height": 34
        }
      },
      "cell_type": "code",
      "source": [
        "accuracy_score(y_test, y_pred)"
      ],
      "execution_count": 42,
      "outputs": [
        {
          "output_type": "execute_result",
          "data": {
            "text/plain": [
              "0.9729707412402632"
            ]
          },
          "metadata": {
            "tags": []
          },
          "execution_count": 42
        }
      ]
    }
  ]
}